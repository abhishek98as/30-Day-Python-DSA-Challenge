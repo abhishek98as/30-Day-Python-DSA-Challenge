{
 "cells": [
  {
   "cell_type": "code",
   "execution_count": 9,
   "id": "f744df3d",
   "metadata": {},
   "outputs": [
    {
     "data": {
      "text/plain": [
       "array([1, 2, 3, 4, 5])"
      ]
     },
     "execution_count": 9,
     "metadata": {},
     "output_type": "execute_result"
    }
   ],
   "source": [
    "import numpy as np\n",
    "a=[1,2,3,4,5]\n",
    "myarr=np.array(a)\n",
    "myarr"
   ]
  },
  {
   "cell_type": "code",
   "execution_count": 11,
   "id": "2fe7f38b",
   "metadata": {},
   "outputs": [
    {
     "data": {
      "text/plain": [
       "array([ 1,  2,  3,  4,  5,  6,  7,  8,  9, 10])"
      ]
     },
     "execution_count": 11,
     "metadata": {},
     "output_type": "execute_result"
    }
   ],
   "source": [
    "import numpy as np\n",
    "myarr=np.array([1,2,3,4,5,6,7,8,9,10])\n",
    "myarr"
   ]
  },
  {
   "cell_type": "code",
   "execution_count": 13,
   "id": "e9ff9fc6",
   "metadata": {},
   "outputs": [
    {
     "name": "stdout",
     "output_type": "stream",
     "text": [
      "enter the size of array10\n",
      "enter the number1\n",
      "enter the number2\n",
      "enter the number3\n",
      "enter the number4\n",
      "enter the number5\n",
      "enter the number6\n",
      "enter the number7\n",
      "enter the number8\n",
      "enter the number9\n",
      "enter the number99\n"
     ]
    },
    {
     "data": {
      "text/plain": [
       "array([ 1,  2,  3,  4,  5,  6,  7,  8,  9, 99])"
      ]
     },
     "execution_count": 13,
     "metadata": {},
     "output_type": "execute_result"
    }
   ],
   "source": [
    "import numpy as np\n",
    "a=[]\n",
    "n=int(input(\"enter the size of array\"))\n",
    "for i in range(n):\n",
    "    val=int(input('enter the number'))\n",
    "    a.append(val)\n",
    "    \n",
    "myarray=np.array(a)\n",
    "myarray"
   ]
  },
  {
   "cell_type": "markdown",
   "id": "f7f5c3ba",
   "metadata": {},
   "source": [
    "import numpy as np\n",
    "a=[[1,2,3],[4,5,6],[7,8,9]\n",
    "\n",
    "myarr=np.arry(a)\n",
    "myarr\n"
   ]
  },
  {
   "cell_type": "code",
   "execution_count": 14,
   "id": "06187374",
   "metadata": {},
   "outputs": [
    {
     "ename": "SyntaxError",
     "evalue": "invalid syntax (<ipython-input-14-1e8af3c82d29>, line 1)",
     "output_type": "error",
     "traceback": [
      "\u001b[1;36m  File \u001b[1;32m\"<ipython-input-14-1e8af3c82d29>\"\u001b[1;36m, line \u001b[1;32m1\u001b[0m\n\u001b[1;33m    import numpay a np\u001b[0m\n\u001b[1;37m                  ^\u001b[0m\n\u001b[1;31mSyntaxError\u001b[0m\u001b[1;31m:\u001b[0m invalid syntax\n"
     ]
    }
   ],
   "source": [
    "import numpay a np\n",
    "myarr=np.array([[1,2,3],[2,3,4],[5,6,7])\n",
    "         \n",
    "myarr                "
   ]
  },
  {
   "cell_type": "code",
   "execution_count": 16,
   "id": "8ad36b46",
   "metadata": {},
   "outputs": [
    {
     "data": {
      "text/plain": [
       "array([[1, 2, 3],\n",
       "       [4, 5, 6],\n",
       "       [7, 8, 9]])"
      ]
     },
     "execution_count": 16,
     "metadata": {},
     "output_type": "execute_result"
    }
   ],
   "source": [
    "import numpy as np\n",
    "a=[[1,2,3],[4,5,6],[7,8,9]]\n",
    "arr=np.array(a)\n",
    "arr"
   ]
  },
  {
   "cell_type": "code",
   "execution_count": 17,
   "id": "cd0ba74c",
   "metadata": {},
   "outputs": [
    {
     "name": "stdout",
     "output_type": "stream",
     "text": [
      "total dimension= 2\n",
      "shape of array= (3, 3)\n"
     ]
    }
   ],
   "source": [
    "#creating numpy array\n",
    "import numpy as np\n",
    "a=[[1,2,3],[4,5,6],[7,8,9]]\n",
    "myarr=np.array(a)\n",
    "myarr\n"
   ]
  },
  {
   "cell_type": "code",
   "execution_count": 18,
   "id": "547905ef",
   "metadata": {},
   "outputs": [
    {
     "name": "stdout",
     "output_type": "stream",
     "text": [
      "total dimension= 2\n",
      "shape of array= (3, 3)\n"
     ]
    }
   ],
   "source": [
    "#creating numpy array\n",
    "import numpy as np\n",
    "a=[[1,2,3],[4,5,6],[7,8,9]]\n",
    "myarr=np.array(a)\n",
    "myarr\n",
    "print(\"total dimension=\",myarr.ndim)\n",
    "print(\"shape of array=\",myarr.shape)"
   ]
  },
  {
   "cell_type": "code",
   "execution_count": 21,
   "id": "1874496e",
   "metadata": {},
   "outputs": [
    {
     "data": {
      "text/plain": [
       "array([0., 0., 0., 0., 0.])"
      ]
     },
     "execution_count": 21,
     "metadata": {},
     "output_type": "execute_result"
    }
   ],
   "source": [
    "#numpy function fill with zeros\n",
    "import numpy as np\n",
    "arr=np.zeros(5)\n",
    "arr\n"
   ]
  },
  {
   "cell_type": "code",
   "execution_count": 22,
   "id": "37f7f5f2",
   "metadata": {},
   "outputs": [
    {
     "data": {
      "text/plain": [
       "array([1., 1., 1., 1., 1.])"
      ]
     },
     "execution_count": 22,
     "metadata": {},
     "output_type": "execute_result"
    }
   ],
   "source": [
    "#numpy function fill with ones\n",
    "import numpy as np\n",
    "arr=np.ones(5)\n",
    "arr"
   ]
  },
  {
   "cell_type": "code",
   "execution_count": 23,
   "id": "45a18dee",
   "metadata": {},
   "outputs": [
    {
     "data": {
      "text/plain": [
       "array([[1., 1., 1., 1.],\n",
       "       [1., 1., 1., 1.]])"
      ]
     },
     "execution_count": 23,
     "metadata": {},
     "output_type": "execute_result"
    }
   ],
   "source": [
    "#numpy function fill with ones by two dimension array\n",
    "import numpy as np\n",
    "arr=np.ones((2,4))\n",
    "arr"
   ]
  },
  {
   "cell_type": "code",
   "execution_count": 26,
   "id": "ba5aaf46",
   "metadata": {},
   "outputs": [
    {
     "data": {
      "text/plain": [
       "array([[1., 0., 0., 0.],\n",
       "       [0., 1., 0., 0.],\n",
       "       [0., 0., 1., 0.],\n",
       "       [0., 0., 0., 1.]])"
      ]
     },
     "execution_count": 26,
     "metadata": {},
     "output_type": "execute_result"
    }
   ],
   "source": [
    "#function whose deals with diagonal number is 1\n",
    "numpy as np\n",
    "arr=np.eye(4,4)\n",
    "arr"
   ]
  },
  {
   "cell_type": "code",
   "execution_count": 27,
   "id": "e82424b0",
   "metadata": {},
   "outputs": [
    {
     "data": {
      "text/plain": [
       "array([[2, 0, 0, 0],\n",
       "       [0, 3, 0, 0],\n",
       "       [0, 0, 4, 0],\n",
       "       [0, 0, 0, 5]])"
      ]
     },
     "execution_count": 27,
     "metadata": {},
     "output_type": "execute_result"
    }
   ],
   "source": [
    "#function deals with given elements in diagonal in 2d array\n",
    "import numpy as np\n",
    "arr=np.diag([2,3,4,5])\n",
    "arr"
   ]
  },
  {
   "cell_type": "code",
   "execution_count": 29,
   "id": "2d035f83",
   "metadata": {},
   "outputs": [
    {
     "data": {
      "text/plain": [
       "array([2, 4, 6, 8])"
      ]
     },
     "execution_count": 29,
     "metadata": {},
     "output_type": "execute_result"
    }
   ],
   "source": [
    "#function to get diagonal elements in 2d array\n",
    "import numpy as np\n",
    "arr=np.diag([2,4,6,8])\n",
    "np.diag(arr)"
   ]
  },
  {
   "cell_type": "code",
   "execution_count": 33,
   "id": "bb53db61",
   "metadata": {},
   "outputs": [
    {
     "data": {
      "text/plain": [
       "array([1, 3, 2])"
      ]
     },
     "execution_count": 33,
     "metadata": {},
     "output_type": "execute_result"
    }
   ],
   "source": [
    "#this function is used to generate random number between a given range\n",
    "#rand(min,max,total)\n",
    "\n",
    "import numpy as np\n",
    "arr=np.random.randint(1,10,3)\n",
    "arr\n"
   ]
  },
  {
   "cell_type": "code",
   "execution_count": 34,
   "id": "245eb7af",
   "metadata": {},
   "outputs": [
    {
     "data": {
      "text/plain": [
       "array([0.2034401 , 0.46029008, 0.66567917, 0.98279579, 0.04101212])"
      ]
     },
     "execution_count": 34,
     "metadata": {},
     "output_type": "execute_result"
    }
   ],
   "source": [
    "#this function is used to generate a random values between 0 to 1\n",
    "import numpy as np\n",
    "arr=np.random.rand(5)\n",
    "arr"
   ]
  },
  {
   "cell_type": "code",
   "execution_count": 36,
   "id": "15746f20",
   "metadata": {},
   "outputs": [
    {
     "data": {
      "text/plain": [
       "array([[0.54359933, 0.81464966, 0.29001625],\n",
       "       [0.43168747, 0.51566749, 0.95465573]])"
      ]
     },
     "execution_count": 36,
     "metadata": {},
     "output_type": "execute_result"
    }
   ],
   "source": [
    "#rthis function also used as 2D array to generate random value between 0 and 1\n",
    "import numpy as np\n",
    "arr=np.random.rand(2,3)\n",
    "arr"
   ]
  },
  {
   "cell_type": "code",
   "execution_count": 38,
   "id": "061268dc",
   "metadata": {},
   "outputs": [
    {
     "data": {
      "text/plain": [
       "array([ 0.4277558 , -1.25444515,  0.01930654, -0.34203719, -1.43340537])"
      ]
     },
     "execution_count": 38,
     "metadata": {},
     "output_type": "execute_result"
    }
   ],
   "source": [
    "#randn\n",
    "#rthis function is used to generate a random values cllose to 0 this will return positive and negative values as well\n",
    "import numpy as np\n",
    "arr=np.random.randn(5)\n",
    "arr"
   ]
  },
  {
   "cell_type": "code",
   "execution_count": 43,
   "id": "c031614d",
   "metadata": {},
   "outputs": [
    {
     "name": "stdout",
     "output_type": "stream",
     "text": [
      "how many numbers?3\n",
      "enter the number1\n",
      "enter the number2\n",
      "enter the number3\n",
      "1\n",
      "2\n",
      "3\n"
     ]
    }
   ],
   "source": [
    "#indexing and in numpy arrays\n",
    "\n",
    "#indexing in 1D array\n",
    "a=[]\n",
    "size=int(input(\"how many numbers?\"))\n",
    "for i in range(size):\n",
    "    val=int(input(\"enter the number\"))\n",
    "    a.append(val)\n",
    "arr=np.array(a)\n",
    "for i in range(arr.size):\n",
    "    print(arr[i])"
   ]
  },
  {
   "cell_type": "code",
   "execution_count": 46,
   "id": "51b492b3",
   "metadata": {},
   "outputs": [
    {
     "name": "stdout",
     "output_type": "stream",
     "text": [
      "how many numbers?4\n",
      "enter the number6\n",
      "enter the number7\n",
      "enter the number4\n",
      "enter the number3\n",
      "6\n",
      "7\n",
      "4\n",
      "3\n",
      "sum of array element= 20\n"
     ]
    }
   ],
   "source": [
    "#indexing in numpy arrays\n",
    "\n",
    "#indexing in 1D array\n",
    "a=[]\n",
    "size=int(input(\"how many numbers?\"))\n",
    "for i in range(size):\n",
    "    val=int(input(\"enter the number\"))\n",
    "    a.append(val)\n",
    "arr=np.array(a)\n",
    "for i in range(arr.size):\n",
    "    print(arr[i])\n",
    "    \n",
    "sum=0\n",
    "for i in range(arr.size):\n",
    "    sum=sum+arr[i]\n",
    "print(\"sum of array element=\",sum)"
   ]
  },
  {
   "cell_type": "code",
   "execution_count": 47,
   "id": "460baf7e",
   "metadata": {},
   "outputs": [
    {
     "name": "stdout",
     "output_type": "stream",
     "text": [
      "how many numbers?9\n",
      "enter the number5\n",
      "enter the number6\n",
      "enter the number7\n",
      "enter the number8\n",
      "enter the number9\n",
      "enter the number10\n",
      "enter the number11\n",
      "enter the number12\n",
      "enter the number13\n",
      "5\n",
      "6\n",
      "7\n",
      "8\n",
      "9\n",
      "10\n",
      "11\n",
      "12\n",
      "13\n",
      "sum of array element= 81\n",
      "[7 8]\n"
     ]
    }
   ],
   "source": [
    "#and slicing \n",
    "a=[]\n",
    "size=int(input(\"how many numbers?\"))\n",
    "for i in range(size):\n",
    "    val=int(input(\"enter the number\"))\n",
    "    a.append(val)\n",
    "arr=np.array(a)\n",
    "for i in range(arr.size):\n",
    "    print(arr[i])\n",
    "    \n",
    "sum=0\n",
    "for i in range(arr.size):\n",
    "    sum=sum+arr[i]\n",
    "print(\"sum of array element=\",sum)\n",
    "\n",
    "arr1=arr[2:4]\n",
    "print(arr1)"
   ]
  },
  {
   "cell_type": "markdown",
   "id": "4ef07a36",
   "metadata": {},
   "source": [
    "#"
   ]
  }
 ],
 "metadata": {
  "kernelspec": {
   "display_name": "Python 3",
   "language": "python",
   "name": "python3"
  },
  "language_info": {
   "codemirror_mode": {
    "name": "ipython",
    "version": 3
   },
   "file_extension": ".py",
   "mimetype": "text/x-python",
   "name": "python",
   "nbconvert_exporter": "python",
   "pygments_lexer": "ipython3",
   "version": "3.8.8"
  }
 },
 "nbformat": 4,
 "nbformat_minor": 5
}
